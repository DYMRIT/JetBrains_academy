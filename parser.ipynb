{
 "cells": [
  {
   "cell_type": "code",
   "execution_count": null,
   "metadata": {},
   "outputs": [],
   "source": [
    "import requests\n",
    "from bs4 import BeautifulSoup\n",
    "import string\n",
    "import os\n",
    "\n",
    "page = int(input())\n",
    "type_article = input()\n",
    "parents_link = os.getcwd()\n",
    "url = 'https://www.nature.com/nature/articles?searchType=journalSearch&sort=PubDate&page=1'\n",
    "req = requests.get(url)\n",
    "soup = BeautifulSoup(req.content, 'html.parser')\n",
    "articles = soup.find_all('li', class_='app-article-list-row__item')\n",
    "articles_list = []\n",
    "for N in range(page):\n",
    "    new_dir = 'page_'+str(N+1)\n",
    "    os.mkdir(new_dir)\n",
    "    os.chdir(new_dir)\n",
    "    for article in articles:\n",
    "        if article.find('span', class_='c-meta__type', string=type_article):\n",
    "            #find name new link\n",
    "            title = article.find('h3', class_='c-card__title').text.strip()\n",
    "            for element in string.punctuation:\n",
    "                if element in title:\n",
    "                    title = title.replace(element, '')\n",
    "            title = title.replace(' ', '_')\n",
    "            name_website = title + '.txt'\n",
    "            articles_list.append(name_website)\n",
    "            #parser information from important article\n",
    "            new_url = 'https://www.nature.com' + article.find('a')['href']\n",
    "            req_article = requests.get(new_url)\n",
    "            new_soup = BeautifulSoup(req_article.content, 'html.parser')\n",
    "            body = new_soup.find('div', class_='article-item__body')\n",
    "            if not body:\n",
    "                body = new_soup.find('div', class_='c-article-body u-clearfix')\n",
    "            body = body.text.strip()\n",
    "            #create file and add to file information\n",
    "            new_file = open(name_website, 'w', encoding='utf-8')\n",
    "            new_file.write(body)\n",
    "            new_file.close()\n",
    "    #print new list with new file name\n",
    "    print(articles_list)\n",
    "    articles_list = []\n",
    "    #create parser for next page in website\n",
    "    buttons = soup.find_all('a', class_='c-pagination__link')\n",
    "    url = 'https://www.nature.com' + buttons[len(buttons)-1]['href']\n",
    "    req = requests.get(url)\n",
    "    soup = BeautifulSoup(req.content, 'html.parser')\n",
    "    articles = soup.find_all('li', class_='app-article-list-row__item')\n",
    "    #return to parents direction\n",
    "    os.chdir(parents_link)"
   ]
  }
 ],
 "metadata": {
  "kernelspec": {
   "display_name": "Python 3",
   "language": "python",
   "name": "python3"
  },
  "language_info": {
   "codemirror_mode": {
    "name": "ipython",
    "version": 3
   },
   "file_extension": ".py",
   "mimetype": "text/x-python",
   "name": "python",
   "nbconvert_exporter": "python",
   "pygments_lexer": "ipython3",
   "version": "3.8.5"
  }
 },
 "nbformat": 4,
 "nbformat_minor": 4
}
